{
 "cells": [
  {
   "cell_type": "code",
   "execution_count": 1,
   "id": "51d818a2-5ab1-4bbe-8db6-c801ddd7630f",
   "metadata": {},
   "outputs": [],
   "source": [
    "import os"
   ]
  },
  {
   "cell_type": "code",
   "execution_count": 44,
   "id": "1f8db9fd-4911-43d3-8815-8f66a99488a0",
   "metadata": {},
   "outputs": [
    {
     "data": {
      "text/plain": [
       "'C:\\\\'"
      ]
     },
     "execution_count": 44,
     "metadata": {},
     "output_type": "execute_result"
    }
   ],
   "source": [
    "os.getcwd()"
   ]
  },
  {
   "cell_type": "code",
   "execution_count": 48,
   "id": "6dc02333-44e3-4226-b161-f91b133024d4",
   "metadata": {},
   "outputs": [
    {
     "name": "stdout",
     "output_type": "stream",
     "text": [
      "bittu/bittu.csv1\n",
      "bittu/bittu.csv1/bittu.csv1\n",
      "bittu/bittu.csv1/bittu.csv2\n",
      "bittu/bittu.csv1/bittu.csv3\n",
      "bittu/bittu.csv1/bittu.csv4\n",
      "bittu/bittu.csv1/bittu.csv5\n",
      "bittu/bittu.csv2\n",
      "bittu/bittu.csv2/bittu.csv1\n",
      "bittu/bittu.csv2/bittu.csv2\n",
      "bittu/bittu.csv2/bittu.csv3\n",
      "bittu/bittu.csv2/bittu.csv4\n",
      "bittu/bittu.csv2/bittu.csv5\n",
      "bittu/bittu.csv3\n",
      "bittu/bittu.csv3/bittu.csv1\n",
      "bittu/bittu.csv3/bittu.csv2\n",
      "bittu/bittu.csv3/bittu.csv3\n",
      "bittu/bittu.csv3/bittu.csv4\n",
      "bittu/bittu.csv3/bittu.csv5\n",
      "bittu/bittu.csv4\n",
      "bittu/bittu.csv4/bittu.csv1\n",
      "bittu/bittu.csv4/bittu.csv2\n",
      "bittu/bittu.csv4/bittu.csv3\n",
      "bittu/bittu.csv4/bittu.csv4\n",
      "bittu/bittu.csv4/bittu.csv5\n",
      "bittu/bittu.csv5\n",
      "bittu/bittu.csv5/bittu.csv1\n",
      "bittu/bittu.csv5/bittu.csv2\n",
      "bittu/bittu.csv5/bittu.csv3\n",
      "bittu/bittu.csv5/bittu.csv4\n",
      "bittu/bittu.csv5/bittu.csv5\n"
     ]
    }
   ],
   "source": [
    "master = 'bittu'\n",
    "os.mkdir(master)\n",
    "for i in range(5):\n",
    "    name = master +'/'+ master + '.json' + str(i+1)\n",
    "    os.mkdir(name)\n",
    "    print(name)\n",
    "    for j in range(5):\n",
    "        \n",
    "        name = master +'/'+  master + '.json' + str(i+1)+'/'+ master+ '.csv'+  str(j+1)\n",
    "        print(name)\n",
    "        os.mkdir(name)"
   ]
  },
  {
   "cell_type": "code",
   "execution_count": null,
   "id": "2409b164-79bf-4c85-b2fd-83669d052517",
   "metadata": {},
   "outputs": [],
   "source": []
  }
 ],
 "metadata": {
  "kernelspec": {
   "display_name": "Python 3 (ipykernel)",
   "language": "python",
   "name": "python3"
  },
  "language_info": {
   "codemirror_mode": {
    "name": "ipython",
    "version": 3
   },
   "file_extension": ".py",
   "mimetype": "text/x-python",
   "name": "python",
   "nbconvert_exporter": "python",
   "pygments_lexer": "ipython3",
   "version": "3.11.7"
  }
 },
 "nbformat": 4,
 "nbformat_minor": 5
}
