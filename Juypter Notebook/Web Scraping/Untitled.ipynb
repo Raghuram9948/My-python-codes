{
 "cells": [
  {
   "cell_type": "code",
   "execution_count": 1,
   "id": "404f7f7e-8603-4636-a77c-95bd679addb1",
   "metadata": {},
   "outputs": [],
   "source": [
    "import requests"
   ]
  },
  {
   "cell_type": "code",
   "execution_count": 22,
   "id": "9d79b876-5ad7-4fb5-b860-895c9d209d34",
   "metadata": {},
   "outputs": [],
   "source": [
    "link = \"https://en.wikipedia.org/wiki/Vedhika\"\n",
    "\n",
    "res = requests.get(link)"
   ]
  },
  {
   "cell_type": "code",
   "execution_count": 23,
   "id": "2e126eee-08c9-49e1-badf-67961c2c788d",
   "metadata": {},
   "outputs": [],
   "source": [
    "re = res.text"
   ]
  },
  {
   "cell_type": "code",
   "execution_count": 24,
   "id": "5024124e-bf4c-4c72-a3f0-b6372bd2b557",
   "metadata": {},
   "outputs": [
    {
     "ename": "UnicodeEncodeError",
     "evalue": "'charmap' codec can't encode characters in position 27777-27782: character maps to <undefined>",
     "output_type": "error",
     "traceback": [
      "\u001b[1;31m---------------------------------------------------------------------------\u001b[0m",
      "\u001b[1;31mUnicodeEncodeError\u001b[0m                        Traceback (most recent call last)",
      "Cell \u001b[1;32mIn[24], line 2\u001b[0m\n\u001b[0;32m      1\u001b[0m fd \u001b[38;5;241m=\u001b[39m \u001b[38;5;28mopen\u001b[39m(\u001b[38;5;124m\"\u001b[39m\u001b[38;5;124mmain.hmtl\u001b[39m\u001b[38;5;124m\"\u001b[39m , \u001b[38;5;124m\"\u001b[39m\u001b[38;5;124mw\u001b[39m\u001b[38;5;124m\"\u001b[39m)\n\u001b[1;32m----> 2\u001b[0m fd\u001b[38;5;241m.\u001b[39mwrite(re)\n\u001b[0;32m      3\u001b[0m fd\u001b[38;5;241m.\u001b[39mclose()\n",
      "File \u001b[1;32m~\\anaconda3\\Lib\\encodings\\cp1252.py:19\u001b[0m, in \u001b[0;36mIncrementalEncoder.encode\u001b[1;34m(self, input, final)\u001b[0m\n\u001b[0;32m     18\u001b[0m \u001b[38;5;28;01mdef\u001b[39;00m \u001b[38;5;21mencode\u001b[39m(\u001b[38;5;28mself\u001b[39m, \u001b[38;5;28minput\u001b[39m, final\u001b[38;5;241m=\u001b[39m\u001b[38;5;28;01mFalse\u001b[39;00m):\n\u001b[1;32m---> 19\u001b[0m     \u001b[38;5;28;01mreturn\u001b[39;00m codecs\u001b[38;5;241m.\u001b[39mcharmap_encode(\u001b[38;5;28minput\u001b[39m,\u001b[38;5;28mself\u001b[39m\u001b[38;5;241m.\u001b[39merrors,encoding_table)[\u001b[38;5;241m0\u001b[39m]\n",
      "\u001b[1;31mUnicodeEncodeError\u001b[0m: 'charmap' codec can't encode characters in position 27777-27782: character maps to <undefined>"
     ]
    }
   ],
   "source": [
    "fd = open(\"main.hmtl\" , \"w\")\n",
    "fd.write(re)\n",
    "fd.close()"
   ]
  },
  {
   "cell_type": "code",
   "execution_count": 21,
   "id": "218568d7-52e7-4226-bced-5074f19eee24",
   "metadata": {},
   "outputs": [
    {
     "data": {
      "text/plain": [
       "'\\n<!-- This is a random-length HTML comment: xetqhzjtpsuyvudoztrtzzjpfkxjtxfvrwosvqddgmgnuecduwmbvmvoyqqxgvoohdlqfrzpkgfgmzkwpzdjsrihbmisuaqzmqtjamwbgkaucfyntybilraieoisljhbtxnjeninzgnuqltglujmeldsjgmkygfuuzipjxomxhkaodgencadygltqkwkhgkddkgtyrptiagchdrykqvkcfkxqqqetvgjlaoehgqxhmxtxpihfdbobzkaovvianquxxvhlzbaqsdybzouyqypdmavmamrgebcfvuvhdppgjmgrdnzckukjfnybfkgkokbjkpdkrjjfqyadurajtnazdnbssufisbvcmrpylqcewvhtktvugtknvommuklucisqkdawkckztatdmdzqnmceqgcgguknmkroahqgdggofddcgiukdhiupsemykutogyxygfhbvtfizfwibsvayyuuiiuueqcnvlykvddfznnsoucblnsfcozobtvymavoxnukeoigusfuxnmxqvalevlqrvzdgfhuwvhatmfaofmwnmnsonjtztzifuowpzyoauzxyazgqlpvtpkctjmojdibkmshqcypgnpvhzgetfxoietbsllzlgloikmztkapskohevpcsqthinvzgjwbzntphpxapiiyiapprczwzccncrowcgjutflzxzdjfidcwktupwbbqnpviajchgqyluurcrnkmvflrmmppmrtnlnhlunncozxwdzmtzwbexurnulnhbarnkavahpyspolntisvjggzxncoooxooekdyyzbgpuymmol -->'"
      ]
     },
     "execution_count": 21,
     "metadata": {},
     "output_type": "execute_result"
    }
   ],
   "source": [
    "re"
   ]
  },
  {
   "cell_type": "code",
   "execution_count": null,
   "id": "b239d3ab-e9bf-4ae9-a2a9-c41beefb4f48",
   "metadata": {},
   "outputs": [],
   "source": []
  }
 ],
 "metadata": {
  "kernelspec": {
   "display_name": "Python 3 (ipykernel)",
   "language": "python",
   "name": "python3"
  },
  "language_info": {
   "codemirror_mode": {
    "name": "ipython",
    "version": 3
   },
   "file_extension": ".py",
   "mimetype": "text/x-python",
   "name": "python",
   "nbconvert_exporter": "python",
   "pygments_lexer": "ipython3",
   "version": "3.11.7"
  }
 },
 "nbformat": 4,
 "nbformat_minor": 5
}
