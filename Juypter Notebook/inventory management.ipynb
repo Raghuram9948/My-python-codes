{
 "cells": [
  {
   "cell_type": "code",
   "execution_count": null,
   "id": "d6f4de2b-d798-46f8-a8e4-fa9e9c98a8b5",
   "metadata": {},
   "outputs": [],
   "source": [
    "fd = open('Inventory.txt','w')\n",
    "\n",
    "fd.close()"
   ]
  },
  {
   "cell_type": "markdown",
   "id": "5a67eec0-c16b-42f3-a0ce-bf3d30206cb5",
   "metadata": {},
   "source": [
    "##product\n",
    "product id\n",
    "product name\n",
    "price\n",
    "quantity"
   ]
  },
  {
   "cell_type": "code",
   "execution_count": null,
   "id": "404c4131-d9f7-4f46-9d3c-b8bb1c5eef98",
   "metadata": {},
   "outputs": [],
   "source": [
    "fd = open('inventory.txt','r')\n",
    "\n",
    "te = fd.read()\n",
    "8\n",
    "fd.close()"
   ]
  },
  {
   "cell_type": "code",
   "execution_count": null,
   "id": "22c9e8f3-559e-4fb9-b748-67fae0b00c54",
   "metadata": {},
   "outputs": [],
   "source": [
    "products = te.split('\\n')"
   ]
  },
  {
   "cell_type": "code",
   "execution_count": null,
   "id": "d1a6b9ea-898b-460a-976e-063d1df77f47",
   "metadata": {},
   "outputs": [],
   "source": [
    "user_id = input(\"Enter the id\")\n",
    "user_qn = input(\"Enter the Qn\")\n",
    "                        \n",
    "lst = []                      \n",
    "\n",
    "for product in products:\n",
    "    \n",
    "   \n",
    "    pro_detail = product.split(',')\n",
    "    if(pro_detail[0] == user_id):\n",
    "            print('-'*30)\n",
    "            print(\"Product Name :\" , pro_detail[1])\n",
    "            print(\"Price        :\" , pro_detail[2])\n",
    "            print(\"Quantity     :\" , user_qn)\n",
    "            print('-'*30)\n",
    "            print(\"Bill         :\" , int(pro_detail[2])*int(user_qn))\n",
    "            pro_detail[3] = str((int(pro_detail[3]) - int(user_qn)))\n",
    "            \n",
    "    print(pro_detail)\n",
    "lst.append(pro_detail)\n",
    "print(lst)"
   ]
  },
  {
   "cell_type": "code",
   "execution_count": null,
   "id": "fb46884d-a8cd-4e38-82ce-d521e70572a0",
   "metadata": {},
   "outputs": [],
   "source": []
  }
 ],
 "metadata": {
  "kernelspec": {
   "display_name": "Python 3 (ipykernel)",
   "language": "python",
   "name": "python3"
  },
  "language_info": {
   "codemirror_mode": {
    "name": "ipython",
    "version": 3
   },
   "file_extension": ".py",
   "mimetype": "text/x-python",
   "name": "python",
   "nbconvert_exporter": "python",
   "pygments_lexer": "ipython3",
   "version": "3.11.7"
  }
 },
 "nbformat": 4,
 "nbformat_minor": 5
}
