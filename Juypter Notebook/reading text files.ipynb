{
 "cells": [
  {
   "cell_type": "code",
   "execution_count": 1,
   "id": "c449b14c-4b8c-4379-93f5-7907f9871572",
   "metadata": {},
   "outputs": [],
   "source": [
    "import os"
   ]
  },
  {
   "cell_type": "code",
   "execution_count": 20,
   "id": "8775b96a-9c84-4c44-8a01-a9f62859a4d9",
   "metadata": {},
   "outputs": [
    {
     "data": {
      "text/plain": [
       "'C:\\\\gfg'"
      ]
     },
     "execution_count": 20,
     "metadata": {},
     "output_type": "execute_result"
    }
   ],
   "source": [
    "os.getcwd()"
   ]
  },
  {
   "cell_type": "code",
   "execution_count": 19,
   "id": "4742287d-b701-4174-bfea-00b16831c338",
   "metadata": {},
   "outputs": [],
   "source": [
    "os.chdir('gfg')"
   ]
  },
  {
   "cell_type": "code",
   "execution_count": 8,
   "id": "f052abb7-f27b-46ee-b78a-9c25d7395e29",
   "metadata": {},
   "outputs": [
    {
     "data": {
      "text/plain": [
       "True"
      ]
     },
     "execution_count": 8,
     "metadata": {},
     "output_type": "execute_result"
    }
   ],
   "source": [
    "os.path.exists('gfg')"
   ]
  },
  {
   "cell_type": "code",
   "execution_count": 12,
   "id": "26940774-2e0e-4f89-bb9e-4190e5a00ff8",
   "metadata": {},
   "outputs": [],
   "source": [
    "file = os.listdir('gfg')"
   ]
  },
  {
   "cell_type": "code",
   "execution_count": 13,
   "id": "8cc8d389-31d2-4238-bf74-2e146ae8b6c0",
   "metadata": {},
   "outputs": [
    {
     "data": {
      "text/plain": [
       "['text1 - Copy (10).txt',\n",
       " 'text1 - Copy (2).txt',\n",
       " 'text1 - Copy (3).txt',\n",
       " 'text1 - Copy (4).txt',\n",
       " 'text1 - Copy (5).txt',\n",
       " 'text1 - Copy (6).txt',\n",
       " 'text1 - Copy (7).txt',\n",
       " 'text1 - Copy (8).txt',\n",
       " 'text1 - Copy (9).txt',\n",
       " 'text1 - Copy.txt',\n",
       " 'text1.txt']"
      ]
     },
     "execution_count": 13,
     "metadata": {},
     "output_type": "execute_result"
    }
   ],
   "source": [
    "file"
   ]
  },
  {
   "cell_type": "code",
   "execution_count": 29,
   "id": "2ab6599a-fbdd-4707-b8bc-5079b4d53a45",
   "metadata": {},
   "outputs": [],
   "source": [
    "for i in file:\n",
    "    fd = open(i,'w')\n",
    "    fd.write('hello')\n",
    "    fd.close()\n",
    "    \n"
   ]
  },
  {
   "cell_type": "code",
   "execution_count": 30,
   "id": "265faf87-d687-43b6-a5da-b061e2ce8d51",
   "metadata": {},
   "outputs": [
    {
     "name": "stdout",
     "output_type": "stream",
     "text": [
      "hello\n",
      "hello\n",
      "hello\n",
      "hello\n",
      "hello\n",
      "hello\n",
      "hello\n",
      "hello\n",
      "hello\n",
      "hello\n",
      "hello\n"
     ]
    }
   ],
   "source": [
    "for i in file:\n",
    "    fd = open(i,'r')\n",
    "    print(fd.read())\n",
    "    fd.close()"
   ]
  },
  {
   "cell_type": "code",
   "execution_count": null,
   "id": "eaca9e2e-5061-43f0-b3e1-5ea8bd9f9b9f",
   "metadata": {},
   "outputs": [],
   "source": []
  }
 ],
 "metadata": {
  "kernelspec": {
   "display_name": "Python 3 (ipykernel)",
   "language": "python",
   "name": "python3"
  },
  "language_info": {
   "codemirror_mode": {
    "name": "ipython",
    "version": 3
   },
   "file_extension": ".py",
   "mimetype": "text/x-python",
   "name": "python",
   "nbconvert_exporter": "python",
   "pygments_lexer": "ipython3",
   "version": "3.11.7"
  }
 },
 "nbformat": 4,
 "nbformat_minor": 5
}
