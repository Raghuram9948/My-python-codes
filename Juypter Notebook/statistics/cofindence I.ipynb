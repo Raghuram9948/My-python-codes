{
 "cells": [
  {
   "cell_type": "code",
   "execution_count": 2,
   "id": "5c73633c-d43c-4049-93bb-eb2b933e33d7",
   "metadata": {},
   "outputs": [],
   "source": [
    "import numpy as np\n",
    "import scipy.stats as st\n",
    "import math\n"
   ]
  },
  {
   "cell_type": "markdown",
   "id": "c31c4b11-f1d7-4ebb-9aa0-eaf5058420cb",
   "metadata": {},
   "source": [
    "# CONFIDENCE INTERVAL"
   ]
  },
  {
   "cell_type": "code",
   "execution_count": 6,
   "id": "44949dd6-6ae8-4120-8b9e-5996904da7ff",
   "metadata": {},
   "outputs": [],
   "source": [
    "np.random.seed(1)\n",
    "data1 = np.random.randint(5,10,100) \n"
   ]
  },
  {
   "cell_type": "markdown",
   "id": "3ea22c71-751e-4855-9b8a-b890ff1cef67",
   "metadata": {},
   "source": [
    "# Z- score"
   ]
  },
  {
   "cell_type": "markdown",
   "id": "792f37d5-3319-46e8-988d-74ac93bcbdb7",
   "metadata": {},
   "source": [
    "finding C.I with 95%,for 100 sample"
   ]
  },
  {
   "cell_type": "code",
   "execution_count": 7,
   "id": "61976a36-ba09-406c-ae6b-8e2c0ae608a7",
   "metadata": {},
   "outputs": [
    {
     "data": {
      "text/plain": [
       "(6.726527762637199, 7.213472237362801)"
      ]
     },
     "execution_count": 7,
     "metadata": {},
     "output_type": "execute_result"
    }
   ],
   "source": [
    "st.norm.interval(confidence = 0.90,loc = np.mean(data1),scale = st.sem(data1))"
   ]
  },
  {
   "cell_type": "markdown",
   "id": "5c7b5a46-d22a-4438-ae02-75871ac3ab08",
   "metadata": {},
   "source": [
    "# T-score"
   ]
  },
  {
   "cell_type": "code",
   "execution_count": 10,
   "id": "dca1fd5f-e6f7-462f-a51a-9c4a89904da5",
   "metadata": {},
   "outputs": [],
   "source": [
    "data2 = np.random.randint(5,10,10) "
   ]
  },
  {
   "cell_type": "code",
   "execution_count": 11,
   "id": "17c677b9-4147-4c52-94a6-a22e497a7e7c",
   "metadata": {},
   "outputs": [
    {
     "data": {
      "text/plain": [
       "(6.097823749467146, 8.102176250532853)"
      ]
     },
     "execution_count": 11,
     "metadata": {},
     "output_type": "execute_result"
    }
   ],
   "source": [
    "st.t.interval(confidence = 0.90,df = len(data2)-1,loc = np.mean(data2),scale = st.sem(data2))"
   ]
  },
  {
   "cell_type": "markdown",
   "id": "9f80a567-06b9-497a-8e69-31300c6de788",
   "metadata": {},
   "source": [
    "# Z-TEST"
   ]
  },
  {
   "cell_type": "markdown",
   "id": "e2265a43-95ae-4c5d-92bf-18dbd0651f5f",
   "metadata": {},
   "source": [
    "A school claimed that the students’ study that is more intelligent than the average school. On calculating the IQ scores of 50 students, the average turns out to be 11. The mean of the population IQ is 100 and the standard deviation is 15. State whether the claim of principal is right or not at a 5% significance level."
   ]
  },
  {
   "cell_type": "code",
   "execution_count": 13,
   "id": "08241dd9-b739-4e6a-8447-21881f56a0cd",
   "metadata": {},
   "outputs": [],
   "source": [
    "alpha = 0.05\n",
    "def ztest(n,sample_mean,pop_mean,std,alternative):\n",
    "    z_score = (sample_mean-pop_mean)/(std/math.sqrt(n))\n",
    "    p_value = st.norm.sf(z_score)\n",
    "    print(z_score)\n",
    "    print(p_value)\n",
    "    if(alternative == \"one-sided\"):\n",
    "        if(p_value < alpha):\n",
    "            print(\"reject the null hypothesis\")\n",
    "        else:\n",
    "            print(\"Do not reject null hypothesis\")\n",
    "\n",
    "    elif(alternative == \"two-sided\"):\n",
    "        if(p_value < alpha/2):\n",
    "            print(\"reject null hypothesis\")\n",
    "        else:\n",
    "            print(\"Do not reject null hypothesis\")\n",
    "\n",
    "\n",
    "\n"
   ]
  },
  {
   "cell_type": "code",
   "execution_count": 15,
   "id": "7f2771aa-521f-45de-bcf3-c613cffc7b9d",
   "metadata": {},
   "outputs": [
    {
     "name": "stdout",
     "output_type": "stream",
     "text": [
      "4.714045207910317\n",
      "1.2142337364879197e-06\n",
      "reject the null hypothesis\n"
     ]
    }
   ],
   "source": [
    "alpha = 0.05\n",
    "ztest(n=50,sample_mean = 110,pop_mean = 100,std = 15,alternative = \"one-sided\")"
   ]
  },
  {
   "cell_type": "markdown",
   "id": "223687a7-60f1-416b-acb8-c4dd5c74aa49",
   "metadata": {},
   "source": [
    "# T-TEST"
   ]
  },
  {
   "cell_type": "markdown",
   "id": "0ae056b7-9cad-473f-9407-3aabbce7fb83",
   "metadata": {},
   "source": [
    "Consider the following example. The weights of 25 obese people were taken before enrolling them into the nutrition camp. The population mean weight is found to be 45 kg before starting the camp. After finishing the camp, for the same 25 people, the sample mean was found to be 75 with a standard deviation of 25. Did the fitness camp work?"
   ]
  },
  {
   "cell_type": "code",
   "execution_count": 14,
   "id": "a9182333-6d99-4296-8d4a-78dd205ebeb2",
   "metadata": {},
   "outputs": [],
   "source": [
    "sample_mean = 75\n",
    "pop_mean  = 45\n",
    "sample_std = 25\n",
    "data = sample_std * np.random.randn(25)+sample_mean\n",
    "alpha = 0.05\n"
   ]
  },
  {
   "cell_type": "code",
   "execution_count": 15,
   "id": "85c1eed1-2511-4998-8ee5-6105b208ab22",
   "metadata": {},
   "outputs": [],
   "source": [
    "tstatistic,p_value = st.ttest_1samp(a=data,popmean = 45)"
   ]
  },
  {
   "cell_type": "code",
   "execution_count": 16,
   "id": "3882e710-8a45-443a-bcbf-cd8faaacbf22",
   "metadata": {},
   "outputs": [
    {
     "name": "stdout",
     "output_type": "stream",
     "text": [
      "reject tha null hypothesis\n"
     ]
    }
   ],
   "source": [
    "if(p_value < alpha):\n",
    "    print(\"reject the null hypothesis\")\n",
    "else:\n",
    "    print(\"failed to reject null hypothesis\")"
   ]
  },
  {
   "cell_type": "code",
   "execution_count": 17,
   "id": "9acc3c3b-ffec-40ab-a443-1c6d6b4a128a",
   "metadata": {},
   "outputs": [
    {
     "data": {
      "text/plain": [
       "1.1805496362869803e-08"
      ]
     },
     "execution_count": 17,
     "metadata": {},
     "output_type": "execute_result"
    }
   ],
   "source": [
    "p_value"
   ]
  },
  {
   "cell_type": "markdown",
   "id": "0d7dfdf7-737d-40ef-9a23-fc72144443db",
   "metadata": {},
   "source": [
    "# chi^2 test"
   ]
  },
  {
   "cell_type": "code",
   "execution_count": 23,
   "id": "9d6c13c1-57af-4626-b1ab-46c54eb5e2cc",
   "metadata": {},
   "outputs": [],
   "source": [
    "data = [[207, 282, 241], [234, 242, 232]]\n",
    "stat,p,df,expected = st.chi2_contingency(data)"
   ]
  },
  {
   "cell_type": "code",
   "execution_count": 24,
   "id": "6a0e6a41-2cbb-40e6-a1b7-0c07d79393e6",
   "metadata": {},
   "outputs": [
    {
     "data": {
      "text/plain": [
       "(4.542228269825232,\n",
       " 0.1031971404730939,\n",
       " 2,\n",
       " array([[223.87343533, 266.00834492, 240.11821975],\n",
       "        [217.12656467, 257.99165508, 232.88178025]]))"
      ]
     },
     "execution_count": 24,
     "metadata": {},
     "output_type": "execute_result"
    }
   ],
   "source": [
    "stat,p,df,expected"
   ]
  },
  {
   "cell_type": "code",
   "execution_count": 26,
   "id": "1dabd1c8-a493-4946-9222-040079388ba6",
   "metadata": {},
   "outputs": [
    {
     "name": "stdout",
     "output_type": "stream",
     "text": [
      "INDEPENDENT, Do not reject null hypothesis\n"
     ]
    }
   ],
   "source": [
    "alpha= 0.05\n",
    "if(p < alpha):\n",
    "    print(\"DEPENDENT,reject the null hypothesis\")\n",
    "else:\n",
    "    print(\"INDEPENDENT, Do not reject null hypothesis\")"
   ]
  },
  {
   "cell_type": "markdown",
   "id": "48101db8-0305-47a2-aab1-f1334d128c54",
   "metadata": {},
   "source": [
    "# ONE-WAY ANOVA"
   ]
  },
  {
   "cell_type": "code",
   "execution_count": 29,
   "id": "278f26b2-83a8-41c2-a262-bbeb0b92c204",
   "metadata": {},
   "outputs": [],
   "source": [
    "eng = [2,4,2]\n",
    "math = [2,3,4]\n",
    "science = [1,2,5]\n",
    "stat,p_value = st.f_oneway(eng,math,science)"
   ]
  },
  {
   "cell_type": "code",
   "execution_count": 30,
   "id": "0f4e2890-b3aa-4dac-b03c-682851f10a6a",
   "metadata": {},
   "outputs": [
    {
     "name": "stdout",
     "output_type": "stream",
     "text": [
      " Do not reject null hypothesis\n"
     ]
    }
   ],
   "source": [
    "alpha = 0.05\n",
    "if(p < alpha):\n",
    "    print(\"reject the null hypothesis\")\n",
    "else:\n",
    "    print(\" Do not reject null hypothesis\")"
   ]
  },
  {
   "cell_type": "code",
   "execution_count": null,
   "id": "53875356-47df-42a6-832c-acd3afcf3057",
   "metadata": {},
   "outputs": [],
   "source": []
  }
 ],
 "metadata": {
  "kernelspec": {
   "display_name": "Python 3 (ipykernel)",
   "language": "python",
   "name": "python3"
  },
  "language_info": {
   "codemirror_mode": {
    "name": "ipython",
    "version": 3
   },
   "file_extension": ".py",
   "mimetype": "text/x-python",
   "name": "python",
   "nbconvert_exporter": "python",
   "pygments_lexer": "ipython3",
   "version": "3.11.7"
  }
 },
 "nbformat": 4,
 "nbformat_minor": 5
}
