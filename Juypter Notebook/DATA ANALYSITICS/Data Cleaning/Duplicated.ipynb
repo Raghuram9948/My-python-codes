{
 "cells": [
  {
   "cell_type": "code",
   "execution_count": 1,
   "id": "e9904766-d49e-476c-9bcb-58bf7f38219e",
   "metadata": {},
   "outputs": [],
   "source": [
    "import pandas as pd"
   ]
  },
  {
   "cell_type": "code",
   "execution_count": 17,
   "id": "29cd0380-be1d-4be6-9c4d-b30aa8e18e83",
   "metadata": {},
   "outputs": [],
   "source": [
    "city = [\"KMT\",\"BZA\",\"PRYG\",\"WL\",\"REGULACHALA\",\"KMT\",\"BZA\"]\n",
    "Rank = [9,3.4,1.5,4,10,2.2,1]\n",
    "person = [\"Raghu\",\"chinni\",\"Bittu\",\"Guna\",\"Raghuram\",\"Raghu\",\"Ram\"]\n",
    "fd = {\"City\" : city,\"Rank\" : Rank , \"Person\" : person}\n",
    "fd = pd.DataFrame(fd)"
   ]
  },
  {
   "cell_type": "code",
   "execution_count": 18,
   "id": "bc1041fb-a1e5-492e-bdf5-de17df3a64cf",
   "metadata": {},
   "outputs": [
    {
     "data": {
      "text/html": [
       "<div>\n",
       "<style scoped>\n",
       "    .dataframe tbody tr th:only-of-type {\n",
       "        vertical-align: middle;\n",
       "    }\n",
       "\n",
       "    .dataframe tbody tr th {\n",
       "        vertical-align: top;\n",
       "    }\n",
       "\n",
       "    .dataframe thead th {\n",
       "        text-align: right;\n",
       "    }\n",
       "</style>\n",
       "<table border=\"1\" class=\"dataframe\">\n",
       "  <thead>\n",
       "    <tr style=\"text-align: right;\">\n",
       "      <th></th>\n",
       "      <th>City</th>\n",
       "      <th>Rank</th>\n",
       "      <th>Person</th>\n",
       "    </tr>\n",
       "  </thead>\n",
       "  <tbody>\n",
       "    <tr>\n",
       "      <th>0</th>\n",
       "      <td>KMT</td>\n",
       "      <td>9.0</td>\n",
       "      <td>Raghu</td>\n",
       "    </tr>\n",
       "    <tr>\n",
       "      <th>1</th>\n",
       "      <td>BZA</td>\n",
       "      <td>3.4</td>\n",
       "      <td>chinni</td>\n",
       "    </tr>\n",
       "    <tr>\n",
       "      <th>2</th>\n",
       "      <td>PRYG</td>\n",
       "      <td>1.5</td>\n",
       "      <td>Bittu</td>\n",
       "    </tr>\n",
       "    <tr>\n",
       "      <th>3</th>\n",
       "      <td>WL</td>\n",
       "      <td>4.0</td>\n",
       "      <td>Guna</td>\n",
       "    </tr>\n",
       "    <tr>\n",
       "      <th>4</th>\n",
       "      <td>REGULACHALA</td>\n",
       "      <td>10.0</td>\n",
       "      <td>Raghuram</td>\n",
       "    </tr>\n",
       "    <tr>\n",
       "      <th>5</th>\n",
       "      <td>KMT</td>\n",
       "      <td>2.2</td>\n",
       "      <td>Raghu</td>\n",
       "    </tr>\n",
       "    <tr>\n",
       "      <th>6</th>\n",
       "      <td>BZA</td>\n",
       "      <td>1.0</td>\n",
       "      <td>Ram</td>\n",
       "    </tr>\n",
       "  </tbody>\n",
       "</table>\n",
       "</div>"
      ],
      "text/plain": [
       "          City  Rank    Person\n",
       "0          KMT   9.0     Raghu\n",
       "1          BZA   3.4    chinni\n",
       "2         PRYG   1.5     Bittu\n",
       "3           WL   4.0      Guna\n",
       "4  REGULACHALA  10.0  Raghuram\n",
       "5          KMT   2.2     Raghu\n",
       "6          BZA   1.0       Ram"
      ]
     },
     "execution_count": 18,
     "metadata": {},
     "output_type": "execute_result"
    }
   ],
   "source": [
    "fd"
   ]
  },
  {
   "cell_type": "code",
   "execution_count": 24,
   "id": "058f47e0-568e-4a7f-ac09-87f291dddcc4",
   "metadata": {},
   "outputs": [
    {
     "data": {
      "text/plain": [
       "1"
      ]
     },
     "execution_count": 24,
     "metadata": {},
     "output_type": "execute_result"
    }
   ],
   "source": [
    "fd.duplicated([\"City\",\"Person\"]).sum()"
   ]
  },
  {
   "cell_type": "code",
   "execution_count": 16,
   "id": "d8be3244-e5be-4530-a410-0428df3e76d9",
   "metadata": {},
   "outputs": [
    {
     "data": {
      "text/html": [
       "<div>\n",
       "<style scoped>\n",
       "    .dataframe tbody tr th:only-of-type {\n",
       "        vertical-align: middle;\n",
       "    }\n",
       "\n",
       "    .dataframe tbody tr th {\n",
       "        vertical-align: top;\n",
       "    }\n",
       "\n",
       "    .dataframe thead th {\n",
       "        text-align: right;\n",
       "    }\n",
       "</style>\n",
       "<table border=\"1\" class=\"dataframe\">\n",
       "  <thead>\n",
       "    <tr style=\"text-align: right;\">\n",
       "      <th></th>\n",
       "      <th>City</th>\n",
       "      <th>Rank</th>\n",
       "      <th>Person</th>\n",
       "    </tr>\n",
       "  </thead>\n",
       "  <tbody>\n",
       "    <tr>\n",
       "      <th>0</th>\n",
       "      <td>KMT</td>\n",
       "      <td>9.0</td>\n",
       "      <td>Raghu</td>\n",
       "    </tr>\n",
       "    <tr>\n",
       "      <th>1</th>\n",
       "      <td>BZA</td>\n",
       "      <td>3.4</td>\n",
       "      <td>chinni</td>\n",
       "    </tr>\n",
       "    <tr>\n",
       "      <th>2</th>\n",
       "      <td>PRYG</td>\n",
       "      <td>1.5</td>\n",
       "      <td>Bittu</td>\n",
       "    </tr>\n",
       "    <tr>\n",
       "      <th>3</th>\n",
       "      <td>WL</td>\n",
       "      <td>4.0</td>\n",
       "      <td>Guna</td>\n",
       "    </tr>\n",
       "    <tr>\n",
       "      <th>4</th>\n",
       "      <td>REGULACHALA</td>\n",
       "      <td>10.0</td>\n",
       "      <td>Raghuram</td>\n",
       "    </tr>\n",
       "  </tbody>\n",
       "</table>\n",
       "</div>"
      ],
      "text/plain": [
       "          City  Rank    Person\n",
       "0          KMT   9.0     Raghu\n",
       "1          BZA   3.4    chinni\n",
       "2         PRYG   1.5     Bittu\n",
       "3           WL   4.0      Guna\n",
       "4  REGULACHALA  10.0  Raghuram"
      ]
     },
     "execution_count": 16,
     "metadata": {},
     "output_type": "execute_result"
    }
   ],
   "source": [
    "fd.drop_duplicates(\"City\" , keep = 'first')\n"
   ]
  },
  {
   "cell_type": "code",
   "execution_count": 25,
   "id": "075ee8c9-7246-4be0-99e3-4dd68d78ea2f",
   "metadata": {},
   "outputs": [
    {
     "data": {
      "text/html": [
       "<div>\n",
       "<style scoped>\n",
       "    .dataframe tbody tr th:only-of-type {\n",
       "        vertical-align: middle;\n",
       "    }\n",
       "\n",
       "    .dataframe tbody tr th {\n",
       "        vertical-align: top;\n",
       "    }\n",
       "\n",
       "    .dataframe thead th {\n",
       "        text-align: right;\n",
       "    }\n",
       "</style>\n",
       "<table border=\"1\" class=\"dataframe\">\n",
       "  <thead>\n",
       "    <tr style=\"text-align: right;\">\n",
       "      <th></th>\n",
       "      <th>City</th>\n",
       "      <th>Rank</th>\n",
       "      <th>Person</th>\n",
       "    </tr>\n",
       "  </thead>\n",
       "  <tbody>\n",
       "    <tr>\n",
       "      <th>2</th>\n",
       "      <td>PRYG</td>\n",
       "      <td>1.5</td>\n",
       "      <td>Bittu</td>\n",
       "    </tr>\n",
       "    <tr>\n",
       "      <th>3</th>\n",
       "      <td>WL</td>\n",
       "      <td>4.0</td>\n",
       "      <td>Guna</td>\n",
       "    </tr>\n",
       "    <tr>\n",
       "      <th>4</th>\n",
       "      <td>REGULACHALA</td>\n",
       "      <td>10.0</td>\n",
       "      <td>Raghuram</td>\n",
       "    </tr>\n",
       "    <tr>\n",
       "      <th>5</th>\n",
       "      <td>KMT</td>\n",
       "      <td>2.2</td>\n",
       "      <td>Raghu</td>\n",
       "    </tr>\n",
       "    <tr>\n",
       "      <th>6</th>\n",
       "      <td>BZA</td>\n",
       "      <td>1.0</td>\n",
       "      <td>Ram</td>\n",
       "    </tr>\n",
       "  </tbody>\n",
       "</table>\n",
       "</div>"
      ],
      "text/plain": [
       "          City  Rank    Person\n",
       "2         PRYG   1.5     Bittu\n",
       "3           WL   4.0      Guna\n",
       "4  REGULACHALA  10.0  Raghuram\n",
       "5          KMT   2.2     Raghu\n",
       "6          BZA   1.0       Ram"
      ]
     },
     "execution_count": 25,
     "metadata": {},
     "output_type": "execute_result"
    }
   ],
   "source": [
    "fd.drop_duplicates(\"City\",keep = \"last\")"
   ]
  },
  {
   "cell_type": "code",
   "execution_count": 27,
   "id": "b7ca9c44-cca1-48ab-bd13-f9fd21acf386",
   "metadata": {},
   "outputs": [
    {
     "data": {
      "text/html": [
       "<div>\n",
       "<style scoped>\n",
       "    .dataframe tbody tr th:only-of-type {\n",
       "        vertical-align: middle;\n",
       "    }\n",
       "\n",
       "    .dataframe tbody tr th {\n",
       "        vertical-align: top;\n",
       "    }\n",
       "\n",
       "    .dataframe thead th {\n",
       "        text-align: right;\n",
       "    }\n",
       "</style>\n",
       "<table border=\"1\" class=\"dataframe\">\n",
       "  <thead>\n",
       "    <tr style=\"text-align: right;\">\n",
       "      <th></th>\n",
       "      <th>City</th>\n",
       "      <th>Rank</th>\n",
       "      <th>Person</th>\n",
       "    </tr>\n",
       "  </thead>\n",
       "  <tbody>\n",
       "    <tr>\n",
       "      <th>2</th>\n",
       "      <td>PRYG</td>\n",
       "      <td>1.5</td>\n",
       "      <td>Bittu</td>\n",
       "    </tr>\n",
       "    <tr>\n",
       "      <th>3</th>\n",
       "      <td>WL</td>\n",
       "      <td>4.0</td>\n",
       "      <td>Guna</td>\n",
       "    </tr>\n",
       "    <tr>\n",
       "      <th>4</th>\n",
       "      <td>REGULACHALA</td>\n",
       "      <td>10.0</td>\n",
       "      <td>Raghuram</td>\n",
       "    </tr>\n",
       "  </tbody>\n",
       "</table>\n",
       "</div>"
      ],
      "text/plain": [
       "          City  Rank    Person\n",
       "2         PRYG   1.5     Bittu\n",
       "3           WL   4.0      Guna\n",
       "4  REGULACHALA  10.0  Raghuram"
      ]
     },
     "execution_count": 27,
     "metadata": {},
     "output_type": "execute_result"
    }
   ],
   "source": [
    "fd.drop_duplicates(\"City\",keep = False)"
   ]
  },
  {
   "cell_type": "code",
   "execution_count": 28,
   "id": "4e83833a-b00a-4fc2-976d-09994a8c76d6",
   "metadata": {},
   "outputs": [
    {
     "data": {
      "text/html": [
       "<div>\n",
       "<style scoped>\n",
       "    .dataframe tbody tr th:only-of-type {\n",
       "        vertical-align: middle;\n",
       "    }\n",
       "\n",
       "    .dataframe tbody tr th {\n",
       "        vertical-align: top;\n",
       "    }\n",
       "\n",
       "    .dataframe thead th {\n",
       "        text-align: right;\n",
       "    }\n",
       "</style>\n",
       "<table border=\"1\" class=\"dataframe\">\n",
       "  <thead>\n",
       "    <tr style=\"text-align: right;\">\n",
       "      <th></th>\n",
       "      <th>City</th>\n",
       "      <th>Rank</th>\n",
       "      <th>Person</th>\n",
       "    </tr>\n",
       "  </thead>\n",
       "  <tbody>\n",
       "    <tr>\n",
       "      <th>0</th>\n",
       "      <td>KMT</td>\n",
       "      <td>9.0</td>\n",
       "      <td>Raghu</td>\n",
       "    </tr>\n",
       "    <tr>\n",
       "      <th>1</th>\n",
       "      <td>BZA</td>\n",
       "      <td>3.4</td>\n",
       "      <td>chinni</td>\n",
       "    </tr>\n",
       "    <tr>\n",
       "      <th>2</th>\n",
       "      <td>PRYG</td>\n",
       "      <td>1.5</td>\n",
       "      <td>Bittu</td>\n",
       "    </tr>\n",
       "    <tr>\n",
       "      <th>3</th>\n",
       "      <td>WL</td>\n",
       "      <td>4.0</td>\n",
       "      <td>Guna</td>\n",
       "    </tr>\n",
       "    <tr>\n",
       "      <th>4</th>\n",
       "      <td>REGULACHALA</td>\n",
       "      <td>10.0</td>\n",
       "      <td>Raghuram</td>\n",
       "    </tr>\n",
       "    <tr>\n",
       "      <th>6</th>\n",
       "      <td>BZA</td>\n",
       "      <td>1.0</td>\n",
       "      <td>Ram</td>\n",
       "    </tr>\n",
       "  </tbody>\n",
       "</table>\n",
       "</div>"
      ],
      "text/plain": [
       "          City  Rank    Person\n",
       "0          KMT   9.0     Raghu\n",
       "1          BZA   3.4    chinni\n",
       "2         PRYG   1.5     Bittu\n",
       "3           WL   4.0      Guna\n",
       "4  REGULACHALA  10.0  Raghuram\n",
       "6          BZA   1.0       Ram"
      ]
     },
     "execution_count": 28,
     "metadata": {},
     "output_type": "execute_result"
    }
   ],
   "source": [
    "fd.drop_duplicates([\"City\",\"Person\"] , keep = 'first')\n"
   ]
  },
  {
   "cell_type": "code",
   "execution_count": null,
   "id": "119dcf07-29eb-41c1-adea-7fd23095d1d9",
   "metadata": {},
   "outputs": [],
   "source": []
  }
 ],
 "metadata": {
  "kernelspec": {
   "display_name": "Python 3 (ipykernel)",
   "language": "python",
   "name": "python3"
  },
  "language_info": {
   "codemirror_mode": {
    "name": "ipython",
    "version": 3
   },
   "file_extension": ".py",
   "mimetype": "text/x-python",
   "name": "python",
   "nbconvert_exporter": "python",
   "pygments_lexer": "ipython3",
   "version": "3.11.7"
  }
 },
 "nbformat": 4,
 "nbformat_minor": 5
}
