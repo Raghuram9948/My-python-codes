{
 "cells": [
  {
   "cell_type": "code",
   "execution_count": 2,
   "id": "45ac6a3d-7c07-4345-a042-db3e4b5b5684",
   "metadata": {},
   "outputs": [],
   "source": [
    "import os"
   ]
  },
  {
   "cell_type": "code",
   "execution_count": 45,
   "id": "a30fe4a8-7406-4043-a82b-a4e4250154b5",
   "metadata": {},
   "outputs": [
    {
     "data": {
      "text/plain": [
       "'C:\\\\Users'"
      ]
     },
     "execution_count": 45,
     "metadata": {},
     "output_type": "execute_result"
    }
   ],
   "source": [
    "\n",
    "os.getcwd()"
   ]
  },
  {
   "cell_type": "code",
   "execution_count": 53,
   "id": "cae8b424-9922-4888-a1cf-c4a53801ff5f",
   "metadata": {},
   "outputs": [],
   "source": [
    "os.chdir('raghu')"
   ]
  },
  {
   "cell_type": "code",
   "execution_count": 61,
   "id": "fb0ebc63-1276-415c-af37-1e62dcddcd18",
   "metadata": {},
   "outputs": [
    {
     "data": {
      "text/plain": [
       "'C:\\\\users\\\\raghu'"
      ]
     },
     "execution_count": 61,
     "metadata": {},
     "output_type": "execute_result"
    }
   ],
   "source": [
    "os.getcwd()"
   ]
  },
  {
   "cell_type": "code",
   "execution_count": 59,
   "id": "8d75ee3a-f073-4b5b-8c75-434380cc09ef",
   "metadata": {},
   "outputs": [
    {
     "name": "stdout",
     "output_type": "stream",
     "text": [
      "already there\n"
     ]
    }
   ],
   "source": [
    "if os.path.exists('GFG'):\n",
    "    print(\"already there\")\n",
    "\n",
    "else:\n",
    "    os.mkdir('GFG')"
   ]
  },
  {
   "cell_type": "code",
   "execution_count": 60,
   "id": "5a67eb51-f8da-4406-ad11-940b5bd07419",
   "metadata": {},
   "outputs": [],
   "source": [
    "os.rename('GFG','gfg')"
   ]
  },
  {
   "cell_type": "code",
   "execution_count": 62,
   "id": "0d8628a4-ee68-4025-bec4-b48c0600e059",
   "metadata": {},
   "outputs": [
    {
     "data": {
      "text/plain": [
       "'Tue Apr 16 17:57:16 2024'"
      ]
     },
     "execution_count": 62,
     "metadata": {},
     "output_type": "execute_result"
    }
   ],
   "source": [
    "import time\n",
    "time.ctime()"
   ]
  },
  {
   "cell_type": "code",
   "execution_count": 64,
   "id": "d1d2448e-9d59-48e7-8f5a-bd9d2f218cb2",
   "metadata": {},
   "outputs": [
    {
     "data": {
      "text/plain": [
       "38"
      ]
     },
     "execution_count": 64,
     "metadata": {},
     "output_type": "execute_result"
    }
   ],
   "source": [
    "len(os.listdir())"
   ]
  },
  {
   "cell_type": "code",
   "execution_count": null,
   "id": "1691d340-8a29-48d8-9c7c-75bd8a71c58a",
   "metadata": {},
   "outputs": [],
   "source": []
  }
 ],
 "metadata": {
  "kernelspec": {
   "display_name": "Python 3 (ipykernel)",
   "language": "python",
   "name": "python3"
  },
  "language_info": {
   "codemirror_mode": {
    "name": "ipython",
    "version": 3
   },
   "file_extension": ".py",
   "mimetype": "text/x-python",
   "name": "python",
   "nbconvert_exporter": "python",
   "pygments_lexer": "ipython3",
   "version": "3.11.7"
  }
 },
 "nbformat": 4,
 "nbformat_minor": 5
}
